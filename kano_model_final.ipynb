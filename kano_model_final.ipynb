{
 "cells": [
  {
   "cell_type": "code",
   "execution_count": 131,
   "metadata": {},
   "outputs": [
    {
     "name": "stdout",
     "output_type": "stream",
     "text": [
      "[(31, 'female'), (28, 'female'), (30, 'male'), (30, 'female'), (31, 'female'), (31, 'female'), (30, 'male'), (33, 'female'), (35, 'female'), (34, 'male'), (28, 'female'), (34, 'female'), (31, 'male'), (29, 'female'), (29, 'female'), (35, 'male'), (35, 'male'), (30, 'male'), (31, 'male'), (35, 'male'), (29, 'male'), (31, 'female'), (31, 'male'), (32, 'male'), (28, 'female'), (28, 'female'), (33, 'male'), (29, 'male'), (33, 'male'), (28, 'male'), (32, 'female'), (31, 'female'), (34, 'male'), (33, 'female'), (34, 'female'), (33, 'female'), (29, 'female'), (28, 'male'), (32, 'female'), (28, 'male'), (32, 'male'), (35, 'female'), (34, 'female'), (29, 'male'), (30, 'female'), (33, 'male'), (31, 'female'), (30, 'female'), (35, 'female'), (30, 'female'), (35, 'male'), (34, 'female'), (28, 'male'), (31, 'female'), (29, 'female'), (29, 'female'), (33, 'male'), (29, 'male'), (29, 'male'), (34, 'female'), (35, 'male'), (32, 'male'), (32, 'male'), (28, 'female'), (33, 'female'), (30, 'female'), (31, 'male'), (32, 'female'), (32, 'male'), (29, 'male'), (28, 'male'), (34, 'male'), (32, 'male'), (29, 'female'), (34, 'female'), (33, 'male'), (29, 'female'), (33, 'male'), (33, 'male'), (32, 'male'), (29, 'female'), (34, 'female'), (34, 'male'), (30, 'male'), (31, 'female'), (33, 'female'), (34, 'male'), (32, 'female'), (33, 'male'), (28, 'male'), (34, 'male'), (34, 'female'), (31, 'female'), (35, 'male'), (29, 'female'), (31, 'male'), (30, 'male'), (28, 'male'), (29, 'male'), (29, 'male')]\n"
     ]
    },
    {
     "data": {
      "text/plain": [
       "100"
      ]
     },
     "execution_count": 131,
     "metadata": {},
     "output_type": "execute_result"
    }
   ],
   "source": [
    "import random\n",
    "\n",
    "#participants\n",
    "\n",
    "def rand_participant():\n",
    "    #generate a single random participant\n",
    "    age = random.randint(28,35)\n",
    "    gender = random.choice(['male', 'female'])\n",
    "    return age, gender\n",
    "\n",
    "#generate a list of 100 random participants\n",
    "sample_probe = [rand_participant() for _ in range(100)]\n",
    "\n",
    "print(sample_probe)\n",
    "len(sample_probe)"
   ]
  },
  {
   "cell_type": "code",
   "execution_count": 139,
   "metadata": {},
   "outputs": [
    {
     "name": "stdout",
     "output_type": "stream",
     "text": [
      "single random answer:  (3, 4)\n",
      "six random answers for all features:  [(4, 5), (3, 1), (4, 1), (2, 2), (5, 1), (3, 4)]\n"
     ]
    }
   ],
   "source": [
    "#answers\n",
    "\n",
    "def rand_answer():\n",
    "    #create a single random answer \n",
    "    f = random.randint(1,5)\n",
    "    q = random.randint(1,5)\n",
    "    return f, q\n",
    "\n",
    "print(\"single random answer: \", rand_answer())\n",
    "\n",
    "def participant_answer(): \n",
    "    # create all 6 random answers\n",
    "    all_answer = [rand_answer() for blu in range(6)]\n",
    "    return all_answer\n",
    "\n",
    "print(\"six random answers for all features: \", participant_answer())\n",
    "\n",
    "def survey_res():\n",
    "    # create set of random survery results\n",
    "    result = [participant_answer() for bla in range(100)]\n",
    "    return result"
   ]
  },
  {
   "cell_type": "code",
   "execution_count": 144,
   "metadata": {},
   "outputs": [
    {
     "data": {
      "text/plain": [
       "[((31, 'female'), [(2, 2), (5, 3), (4, 4), (3, 5), (4, 2), (2, 1)]),\n",
       " ((28, 'female'), [(1, 4), (4, 1), (1, 1), (1, 1), (1, 3), (4, 1)]),\n",
       " ((30, 'male'), [(2, 3), (4, 5), (4, 2), (2, 5), (2, 3), (3, 3)]),\n",
       " ((30, 'female'), [(4, 3), (5, 4), (1, 3), (4, 1), (5, 5), (2, 3)]),\n",
       " ((31, 'female'), [(1, 2), (5, 5), (1, 2), (4, 2), (5, 4), (4, 1)]),\n",
       " ((31, 'female'), [(1, 3), (4, 3), (5, 3), (5, 3), (2, 2), (5, 2)]),\n",
       " ((30, 'male'), [(5, 3), (1, 3), (2, 3), (3, 5), (3, 1), (3, 5)]),\n",
       " ((33, 'female'), [(3, 5), (5, 1), (5, 2), (4, 5), (5, 5), (5, 3)]),\n",
       " ((35, 'female'), [(4, 3), (2, 5), (1, 3), (5, 2), (4, 1), (3, 4)]),\n",
       " ((34, 'male'), [(3, 4), (5, 1), (4, 4), (5, 3), (3, 3), (5, 2)]),\n",
       " ((28, 'female'), [(4, 1), (4, 5), (1, 1), (3, 1), (4, 5), (2, 3)]),\n",
       " ((34, 'female'), [(4, 2), (3, 4), (1, 5), (5, 1), (2, 5), (2, 2)]),\n",
       " ((31, 'male'), [(4, 1), (4, 2), (1, 1), (4, 4), (4, 5), (5, 1)]),\n",
       " ((29, 'female'), [(5, 2), (1, 3), (5, 1), (2, 3), (5, 5), (5, 4)]),\n",
       " ((29, 'female'), [(1, 5), (5, 4), (5, 2), (4, 5), (3, 2), (5, 1)]),\n",
       " ((35, 'male'), [(5, 5), (3, 2), (1, 4), (5, 4), (1, 1), (3, 2)]),\n",
       " ((35, 'male'), [(2, 3), (2, 5), (3, 5), (1, 4), (4, 1), (4, 5)]),\n",
       " ((30, 'male'), [(1, 4), (4, 3), (2, 1), (3, 5), (3, 1), (2, 5)]),\n",
       " ((31, 'male'), [(1, 2), (3, 1), (1, 1), (4, 2), (2, 5), (3, 3)]),\n",
       " ((35, 'male'), [(4, 4), (4, 5), (2, 4), (1, 3), (5, 3), (2, 1)]),\n",
       " ((29, 'male'), [(2, 1), (3, 3), (4, 4), (2, 5), (4, 2), (2, 1)]),\n",
       " ((31, 'female'), [(4, 4), (3, 4), (5, 3), (5, 4), (1, 3), (5, 3)]),\n",
       " ((31, 'male'), [(2, 1), (4, 2), (2, 1), (5, 1), (2, 2), (4, 5)]),\n",
       " ((32, 'male'), [(3, 5), (1, 2), (5, 5), (5, 2), (3, 3), (5, 4)]),\n",
       " ((28, 'female'), [(4, 2), (3, 1), (1, 2), (4, 2), (1, 1), (3, 2)]),\n",
       " ((28, 'female'), [(5, 1), (3, 2), (1, 1), (3, 1), (4, 3), (3, 4)]),\n",
       " ((33, 'male'), [(5, 1), (2, 3), (1, 5), (5, 5), (4, 4), (3, 1)]),\n",
       " ((29, 'male'), [(2, 3), (3, 5), (5, 4), (3, 3), (2, 4), (4, 1)]),\n",
       " ((33, 'male'), [(4, 2), (1, 5), (2, 2), (5, 2), (3, 1), (5, 2)]),\n",
       " ((28, 'male'), [(4, 3), (5, 2), (4, 2), (1, 3), (2, 4), (2, 1)]),\n",
       " ((32, 'female'), [(5, 4), (2, 4), (4, 4), (5, 1), (2, 5), (3, 5)]),\n",
       " ((31, 'female'), [(3, 5), (1, 2), (1, 1), (3, 4), (2, 5), (4, 2)]),\n",
       " ((34, 'male'), [(3, 2), (1, 5), (3, 2), (3, 1), (2, 4), (2, 3)]),\n",
       " ((33, 'female'), [(3, 5), (4, 2), (2, 4), (4, 1), (4, 3), (5, 1)]),\n",
       " ((34, 'female'), [(5, 4), (3, 2), (3, 1), (2, 2), (2, 1), (1, 2)]),\n",
       " ((33, 'female'), [(2, 3), (2, 2), (2, 3), (2, 3), (1, 5), (1, 3)]),\n",
       " ((29, 'female'), [(1, 2), (1, 3), (3, 4), (5, 5), (1, 2), (3, 2)]),\n",
       " ((28, 'male'), [(1, 2), (4, 2), (5, 1), (4, 1), (3, 3), (4, 5)]),\n",
       " ((32, 'female'), [(2, 4), (4, 1), (5, 4), (1, 2), (1, 4), (2, 5)]),\n",
       " ((28, 'male'), [(2, 4), (2, 3), (4, 3), (4, 2), (4, 1), (1, 3)]),\n",
       " ((32, 'male'), [(3, 1), (5, 2), (3, 4), (3, 1), (3, 4), (5, 5)]),\n",
       " ((35, 'female'), [(4, 2), (1, 2), (3, 1), (1, 3), (2, 5), (3, 4)]),\n",
       " ((34, 'female'), [(3, 3), (4, 3), (3, 4), (2, 4), (3, 3), (1, 4)]),\n",
       " ((29, 'male'), [(4, 2), (3, 1), (1, 3), (3, 2), (4, 3), (4, 1)]),\n",
       " ((30, 'female'), [(3, 2), (2, 1), (5, 4), (1, 2), (2, 4), (5, 2)]),\n",
       " ((33, 'male'), [(4, 3), (1, 5), (4, 5), (3, 4), (3, 2), (5, 2)]),\n",
       " ((31, 'female'), [(4, 1), (1, 5), (2, 5), (3, 5), (3, 5), (3, 1)]),\n",
       " ((30, 'female'), [(2, 1), (4, 2), (3, 5), (1, 3), (1, 4), (1, 3)]),\n",
       " ((35, 'female'), [(2, 4), (1, 2), (5, 2), (5, 1), (5, 3), (4, 2)]),\n",
       " ((30, 'female'), [(3, 5), (1, 5), (3, 2), (3, 3), (4, 1), (5, 3)]),\n",
       " ((35, 'male'), [(5, 3), (1, 5), (1, 5), (2, 4), (5, 4), (1, 4)]),\n",
       " ((34, 'female'), [(1, 5), (2, 3), (5, 1), (5, 3), (5, 4), (1, 2)]),\n",
       " ((28, 'male'), [(4, 1), (5, 4), (1, 3), (5, 5), (1, 5), (3, 2)]),\n",
       " ((31, 'female'), [(3, 3), (1, 4), (4, 1), (4, 2), (1, 4), (5, 4)]),\n",
       " ((29, 'female'), [(2, 5), (4, 3), (3, 2), (1, 2), (2, 2), (3, 4)]),\n",
       " ((29, 'female'), [(4, 5), (1, 4), (4, 5), (2, 4), (5, 3), (5, 1)]),\n",
       " ((33, 'male'), [(1, 4), (1, 5), (3, 4), (4, 2), (3, 1), (1, 1)]),\n",
       " ((29, 'male'), [(5, 1), (5, 2), (3, 5), (2, 4), (3, 4), (4, 4)]),\n",
       " ((29, 'male'), [(2, 1), (4, 1), (1, 4), (3, 4), (4, 4), (2, 3)]),\n",
       " ((34, 'female'), [(1, 4), (5, 2), (1, 4), (2, 5), (2, 4), (2, 2)]),\n",
       " ((35, 'male'), [(5, 4), (3, 3), (2, 3), (2, 5), (3, 3), (1, 3)]),\n",
       " ((32, 'male'), [(2, 1), (3, 4), (4, 4), (3, 5), (2, 3), (2, 3)]),\n",
       " ((32, 'male'), [(3, 1), (5, 3), (5, 1), (3, 3), (1, 5), (4, 5)]),\n",
       " ((28, 'female'), [(3, 4), (3, 3), (5, 2), (4, 3), (1, 3), (4, 4)]),\n",
       " ((33, 'female'), [(3, 5), (4, 5), (3, 4), (5, 3), (1, 3), (2, 3)]),\n",
       " ((30, 'female'), [(4, 1), (5, 4), (3, 4), (4, 2), (3, 3), (3, 2)]),\n",
       " ((31, 'male'), [(3, 4), (5, 4), (4, 1), (1, 5), (5, 5), (2, 5)]),\n",
       " ((32, 'female'), [(1, 1), (4, 2), (4, 5), (5, 1), (3, 1), (5, 2)]),\n",
       " ((32, 'male'), [(4, 2), (2, 2), (1, 3), (5, 2), (4, 1), (3, 4)]),\n",
       " ((29, 'male'), [(2, 2), (4, 3), (3, 1), (1, 4), (4, 5), (1, 5)]),\n",
       " ((28, 'male'), [(5, 3), (4, 4), (2, 2), (4, 3), (3, 1), (1, 1)]),\n",
       " ((34, 'male'), [(3, 3), (1, 5), (1, 3), (3, 5), (5, 1), (3, 3)]),\n",
       " ((32, 'male'), [(2, 4), (4, 1), (3, 1), (3, 3), (1, 1), (4, 4)]),\n",
       " ((29, 'female'), [(1, 2), (1, 4), (4, 2), (5, 5), (5, 3), (1, 5)]),\n",
       " ((34, 'female'), [(3, 3), (5, 5), (1, 4), (3, 1), (1, 3), (1, 4)]),\n",
       " ((33, 'male'), [(5, 2), (4, 4), (5, 2), (2, 1), (1, 1), (5, 5)]),\n",
       " ((29, 'female'), [(3, 5), (1, 4), (5, 3), (4, 3), (5, 2), (4, 3)]),\n",
       " ((33, 'male'), [(5, 3), (4, 2), (3, 2), (2, 3), (3, 2), (3, 2)]),\n",
       " ((33, 'male'), [(3, 5), (1, 3), (5, 4), (5, 5), (3, 2), (3, 2)]),\n",
       " ((32, 'male'), [(4, 4), (1, 3), (4, 4), (1, 5), (4, 2), (5, 5)]),\n",
       " ((29, 'female'), [(2, 4), (2, 2), (4, 4), (4, 3), (4, 1), (4, 4)]),\n",
       " ((34, 'female'), [(4, 2), (2, 3), (5, 3), (3, 4), (1, 3), (4, 5)]),\n",
       " ((34, 'male'), [(1, 1), (1, 4), (2, 1), (1, 1), (2, 3), (1, 4)]),\n",
       " ((30, 'male'), [(5, 1), (3, 3), (1, 2), (5, 5), (3, 1), (5, 1)]),\n",
       " ((31, 'female'), [(3, 3), (2, 5), (2, 5), (2, 2), (4, 5), (4, 1)]),\n",
       " ((33, 'female'), [(5, 2), (5, 4), (2, 2), (2, 4), (4, 1), (3, 5)]),\n",
       " ((34, 'male'), [(3, 5), (2, 1), (3, 1), (5, 5), (5, 3), (3, 2)]),\n",
       " ((32, 'female'), [(1, 5), (2, 5), (5, 2), (3, 5), (3, 4), (5, 2)]),\n",
       " ((33, 'male'), [(5, 5), (4, 4), (4, 1), (4, 1), (2, 5), (1, 2)]),\n",
       " ((28, 'male'), [(3, 5), (4, 5), (4, 1), (4, 3), (2, 4), (5, 4)]),\n",
       " ((34, 'male'), [(2, 2), (2, 4), (2, 1), (1, 2), (4, 2), (3, 1)]),\n",
       " ((34, 'female'), [(1, 3), (2, 3), (1, 3), (5, 3), (1, 2), (3, 1)]),\n",
       " ((31, 'female'), [(1, 4), (2, 4), (3, 3), (2, 1), (1, 1), (3, 2)]),\n",
       " ((35, 'male'), [(1, 1), (2, 4), (5, 4), (3, 2), (3, 2), (1, 4)]),\n",
       " ((29, 'female'), [(5, 4), (4, 5), (1, 5), (3, 2), (3, 5), (5, 2)]),\n",
       " ((31, 'male'), [(1, 3), (5, 1), (3, 3), (5, 4), (3, 5), (2, 3)]),\n",
       " ((30, 'male'), [(1, 4), (5, 4), (1, 3), (3, 3), (2, 2), (2, 2)]),\n",
       " ((28, 'male'), [(4, 5), (2, 2), (5, 1), (5, 4), (4, 1), (4, 5)]),\n",
       " ((29, 'male'), [(5, 3), (3, 3), (4, 4), (3, 3), (5, 5), (2, 5)]),\n",
       " ((29, 'male'), [(2, 2), (3, 3), (3, 1), (1, 2), (4, 1), (2, 1)])]"
      ]
     },
     "execution_count": 144,
     "metadata": {},
     "output_type": "execute_result"
    }
   ],
   "source": [
    "#join and print survey dataset \n",
    "my_survey = list(zip(sample_probe, survey_res()))\n",
    "my_survey"
   ]
  },
  {
   "cell_type": "code",
   "execution_count": 145,
   "metadata": {},
   "outputs": [],
   "source": [
    "#create a dictionary containing kano categories\n",
    "eval_keys = {\n",
    "    (1,1): \"Q\",  (1,2): \"A\",  (1,3): \"A\",  (1,4): \"A\",  (1,5): \"P\", \n",
    "    (2,1): \"R\",  (2,2): \"Q\",  (2,3): \"I\",  (2,4): \"I\",  (2,5): \"M\", \n",
    "    (3,1): \"R\",  (3,2): \"I\",  (3,3): \"I\",  (3,4): \"I\",  (3,5): \"M\", \n",
    "    (4,1): \"R\",  (4,2): \"I\",  (4,3): \"I\",  (4,4): \"Q\",  (4,5): \"M\", \n",
    "    (5,1): \"R\",  (5,2): \"R\",  (5,3): \"R\",  (5,4): \"R\",  (5,5): \"Q\"\n",
    "}"
   ]
  },
  {
   "cell_type": "code",
   "execution_count": 146,
   "metadata": {},
   "outputs": [
    {
     "name": "stdout",
     "output_type": "stream",
     "text": [
      "['MIARQR', 'RQRMII', 'QMRMIQ', 'RIAMIQ', 'RMRRMR', 'QQRPRI', 'RAIRMR', 'IRAIRA', 'QIMRRI', 'RAPQAM', 'ARRRMM', 'MIMAII', 'MMMAAP', 'RRRQMQ', 'PAQQRR', 'QAIQRA', 'RRIIQM', 'IRMRMR', 'IQIQIM', 'IMRIPR', 'RAAQII', 'IIPQRR', 'AQMRIQ', 'RQAIPA', 'QMRIQR', 'RMRQRR', 'RAQIMI', 'QQRIIR', 'QRQQRP', 'MQRQQR', 'MQRQRI', 'MAIQRI', 'MRIRMR', 'IPAMII', 'PIIIIP', 'QMIAMI', 'RMAQRR', 'MRRIIM', 'RIAQQR', 'ARIIIR', 'IIARAA', 'AAIIMM', 'MQAAAR', 'RMRAAI', 'IIQRQI', 'RIPIRQ', 'QRQPQA', 'PRQARA', 'QQRRRI', 'QRRIIR', 'IARIMR', 'IIMIAR', 'IIQIMI', 'IAIRRI', 'ARMIRR', 'RMIIRI', 'RIAIRM', 'IARQIM', 'MIQIIA', 'IIMQRM', 'AIMRQI', 'IRAARI', 'ARQQII', 'ARMRMQ', 'AIRRPQ', 'RARQAI', 'MIMRAR', 'RIIMIR', 'MRRRIR', 'QIQRRM', 'IIIAII', 'ARQIIA', 'IIMIIM', 'MQMRRQ', 'IAPMII', 'QIRMII', 'IIAPIQ', 'QRRMQQ', 'RAIAQR', 'MRIQRR', 'MIQRQR', 'PRMRRR', 'QQRIQM', 'MRMRRQ', 'QMRQPP', 'RRIIMA', 'QMIIII', 'QIRAIQ', 'MIAQIA', 'IIMPRQ', 'RAIQIA', 'PMRQIR', 'QRRIRM', 'QIQQRR', 'IAIIMI', 'IIRQRQ', 'QMRRAA', 'RQPRIR', 'IQPIII', 'AIIAAA']\n"
     ]
    }
   ],
   "source": [
    "#print all answers for assigning to kano categories\n",
    "answer_all = list(survey_res())\n",
    "\n",
    "#map the keys in the dictionary to the answers \n",
    "answers = [''.join(map(lambda x: eval_keys[x], ans)) for ans in answer_all]\n",
    "print(answers)"
   ]
  },
  {
   "cell_type": "code",
   "execution_count": 147,
   "metadata": {},
   "outputs": [],
   "source": [
    "#enumerate frequency of responses for each feature's category\n",
    "##weights are assigned to categories in order to reflect more realistic outcomes\n",
    "\n",
    "feat_1 = {'M':0, 'A':0, 'Q':0, 'I':0, 'P':0, 'R':0}\n",
    "\n",
    "for elem in answers: \n",
    "    if 'M' in elem[0]: \n",
    "        feat_1['M'] += 1\n",
    "    elif 'A' in elem[0]: \n",
    "        feat_1['A'] += 1\n",
    "    elif 'Q' in elem[0]: \n",
    "        feat_1['Q'] += round(random.uniform(0.25,0.75), 0)\n",
    "    elif 'I' in elem[0]: \n",
    "        feat_1['I'] += round(random.uniform(0.25,0.6), 0)\n",
    "    elif 'P' in elem[0]: \n",
    "        feat_1['P'] += round(random.uniform(1.0,2.0), 0)\n",
    "    elif 'R' in elem[0]: \n",
    "        feat_1['R'] += round(random.uniform(0.25,0.52), 0)\n",
    "\n",
    "feat_2 = {'M':0, 'A':0, 'Q':0, 'I':0, 'P':0, 'R':0}\n",
    "\n",
    "for elem in answers: \n",
    "    if 'M' in elem[1]: \n",
    "        feat_2['M'] += 1\n",
    "    elif 'A' in elem[1]: \n",
    "        feat_2['A'] += 1\n",
    "    elif 'Q' in elem[1]: \n",
    "        feat_2['Q'] += round(random.uniform(0.25,0.75), 0)\n",
    "    elif 'I' in elem[1]: \n",
    "        feat_2['I'] += round(random.uniform(0.25,0.6), 0)\n",
    "    elif 'P' in elem[1]: \n",
    "        feat_2['P'] += round(random.uniform(1.0,2.0), 0)\n",
    "    elif 'R' in elem[1]: \n",
    "        feat_2['R'] += round(random.uniform(0.25,0.52), 0)\n",
    "\n",
    "feat_3 = {'M':0, 'A':0, 'Q':0, 'I':0, 'P':0, 'R':0}\n",
    "\n",
    "for elem in answers: \n",
    "    if 'M' in elem[2]: \n",
    "        feat_3['M'] += 1\n",
    "    elif 'A' in elem[2]: \n",
    "        feat_3['A'] += 1\n",
    "    elif 'Q' in elem[2]: \n",
    "        feat_3['Q'] += round(random.uniform(0.25,0.75), 0)\n",
    "    elif 'I' in elem[2]: \n",
    "        feat_3['I'] += round(random.uniform(0.25,0.6), 0)\n",
    "    elif 'P' in elem[2]: \n",
    "        feat_3['P'] += round(random.uniform(1.0,2.0), 0)\n",
    "    elif 'R' in elem[2]: \n",
    "        feat_3['R'] += round(random.uniform(0.25,0.52), 0)\n",
    "\n",
    "feat_4 = {'M':0, 'A':0, 'Q':0, 'I':0, 'P':0, 'R':0}\n",
    "\n",
    "for elem in answers: \n",
    "    if 'M' in elem[3]: \n",
    "        feat_4['M'] += 1\n",
    "    elif 'A' in elem[3]: \n",
    "        feat_4['A'] += 1\n",
    "    elif 'Q' in elem[3]: \n",
    "        feat_4['Q'] += round(random.uniform(0.25,0.75), 0)\n",
    "    elif 'I' in elem[3]: \n",
    "        feat_4['I'] += round(random.uniform(0.25,0.6), 0)\n",
    "    elif 'P' in elem[3]: \n",
    "        feat_4['P'] += round(random.uniform(1.0,2.0), 0)\n",
    "    elif 'R' in elem[3]: \n",
    "        feat_4['R'] += round(random.uniform(0.25,0.52), 0)\n",
    "        \n",
    "feat_5 = {'M':0, 'A':0, 'Q':0, 'I':0, 'P':0, 'R':0}\n",
    "\n",
    "for elem in answers: \n",
    "    if 'M' in elem[4]: \n",
    "        feat_5['M'] += 1\n",
    "    elif 'A' in elem[4]: \n",
    "        feat_5['A'] += 1\n",
    "    elif 'Q' in elem[4]: \n",
    "        feat_5['Q'] += round(random.uniform(0.25,0.75), 0)\n",
    "    elif 'I' in elem[4]: \n",
    "        feat_5['I'] += round(random.uniform(0.25,0.6), 0)\n",
    "    elif 'P' in elem[4]: \n",
    "        feat_5['P'] += round(random.uniform(1.0,2.0), 0)\n",
    "    elif 'R' in elem[4]: \n",
    "        feat_5['R'] += round(random.uniform(0.25,0.52), 0)\n",
    "\n",
    "feat_6 = {'M':0, 'A':0, 'Q':0, 'I':0, 'P':0, 'R':0}\n",
    "\n",
    "for elem in answers: \n",
    "    if 'M' in elem[5]: \n",
    "        feat_6['M'] += 1\n",
    "    elif 'A' in elem[5]: \n",
    "        feat_6['A'] += 1\n",
    "    elif 'Q' in elem[5]: \n",
    "        feat_6['Q'] += round(random.uniform(0.25,0.75), 0)\n",
    "    elif 'I' in elem[5]: \n",
    "        feat_6['I'] += round(random.uniform(0.25,0.6), 0)\n",
    "    elif 'P' in elem[5]: \n",
    "        feat_6['P'] += round(random.uniform(1.0,2.0), 0)\n",
    "    elif 'R' in elem[5]: \n",
    "        feat_6['R'] += round(random.uniform(0.25,0.52), 0)"
   ]
  },
  {
   "cell_type": "code",
   "execution_count": 148,
   "metadata": {},
   "outputs": [
    {
     "data": {
      "text/plain": [
       "({'M': 17, 'A': 11, 'Q': 14.0, 'I': 8.0, 'P': 7.0, 'R': 2.0},\n",
       " {'M': 14, 'A': 16, 'Q': 8.0, 'I': 7.0, 'P': 1.0, 'R': 2.0},\n",
       " {'M': 16, 'A': 14, 'Q': 7.0, 'I': 3.0, 'P': 10.0, 'R': 4.0},\n",
       " {'M': 8, 'A': 11, 'Q': 11.0, 'I': 5.0, 'P': 8.0, 'R': 3.0},\n",
       " {'M': 14, 'A': 10, 'Q': 8.0, 'I': 14.0, 'P': 6.0, 'R': 0.0},\n",
       " {'M': 13, 'A': 13, 'Q': 3.0, 'I': 9.0, 'P': 7.0, 'R': 4.0})"
      ]
     },
     "execution_count": 148,
     "metadata": {},
     "output_type": "execute_result"
    }
   ],
   "source": [
    "#list whole feature distributions\n",
    "\n",
    "feature_dist = feat_1, feat_2, feat_3, feat_4, feat_5, feat_6\n",
    "feature_dist"
   ]
  },
  {
   "cell_type": "code",
   "execution_count": 149,
   "metadata": {},
   "outputs": [
    {
     "name": "stdout",
     "output_type": "stream",
     "text": [
      "Feature 1:  {'M': 17, 'A': 11, 'Q': 14.0, 'I': 8.0, 'P': 7.0, 'R': 2.0} \n",
      " Feature 2:  {'M': 14, 'A': 16, 'Q': 8.0, 'I': 7.0, 'P': 1.0, 'R': 2.0} \n",
      " Feature 3:  {'M': 16, 'A': 14, 'Q': 7.0, 'I': 3.0, 'P': 10.0, 'R': 4.0} \n",
      " Feature 4:  {'M': 8, 'A': 11, 'Q': 11.0, 'I': 5.0, 'P': 8.0, 'R': 3.0} \n",
      " Feature 5:  {'M': 14, 'A': 10, 'Q': 8.0, 'I': 14.0, 'P': 6.0, 'R': 0.0} \n",
      " Feature 6:  {'M': 13, 'A': 13, 'Q': 3.0, 'I': 9.0, 'P': 7.0, 'R': 4.0} \n",
      "\n"
     ]
    }
   ],
   "source": [
    "#Write the answers for each feature in table\n",
    "\n",
    "print(\n",
    "    \"Feature 1: \", feat_1, \"\\n\", \n",
    "    \"Feature 2: \", feat_2, \"\\n\", \n",
    "    \"Feature 3: \", feat_3, \"\\n\",\n",
    "    \"Feature 4: \", feat_4, \"\\n\",\n",
    "    \"Feature 5: \", feat_5, \"\\n\",\n",
    "    \"Feature 6: \", feat_6, \"\\n\",)"
   ]
  }
 ],
 "metadata": {
  "kernelspec": {
   "display_name": "Python 3.7.3 64-bit",
   "language": "python",
   "name": "python37364bita03dba107392409a9c146939ccb3de9c"
  },
  "language_info": {
   "codemirror_mode": {
    "name": "ipython",
    "version": 3
   },
   "file_extension": ".py",
   "mimetype": "text/x-python",
   "name": "python",
   "nbconvert_exporter": "python",
   "pygments_lexer": "ipython3",
   "version": "3.7.3"
  }
 },
 "nbformat": 4,
 "nbformat_minor": 2
}
